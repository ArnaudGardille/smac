{
 "cells": [
  {
   "cell_type": "code",
   "execution_count": 1,
   "metadata": {},
   "outputs": [],
   "source": [
    "import smac"
   ]
  },
  {
   "cell_type": "code",
   "execution_count": 2,
   "metadata": {},
   "outputs": [
    {
     "name": "stdout",
     "output_type": "stream",
     "text": [
      "+------------+----------------+---------------------------------------------------------------------------------------------------------------------------------------------------------+-------------------------------------+----------------------------+\n",
      "| Env_Name   | Check_Status   | Error_Log                                                                                                                                               | Config_File_Location                | Env_File_Location          |\n",
      "+============+================+=========================================================================================================================================================+=====================================+============================+\n",
      "| mpe        | Ready          | Null                                                                                                                                                    | envs/base_env/config/mpe.yaml       | envs/base_env/mpe.py       |\n",
      "+------------+----------------+---------------------------------------------------------------------------------------------------------------------------------------------------------+-------------------------------------+----------------------------+\n",
      "| mamujoco   | Error          | No module named 'mujoco_py'. (HINT: you need to install mujoco_py, and also perform the setup instructions here: https://github.com/openai/mujoco-py/.) | envs/base_env/config/mamujoco.yaml  | envs/base_env/mamujoco.py  |\n",
      "+------------+----------------+---------------------------------------------------------------------------------------------------------------------------------------------------------+-------------------------------------+----------------------------+\n",
      "| smac       | Ready          | Null                                                                                                                                                    | envs/base_env/config/smac.yaml      | envs/base_env/smac.py      |\n",
      "+------------+----------------+---------------------------------------------------------------------------------------------------------------------------------------------------------+-------------------------------------+----------------------------+\n",
      "| football   | Error          | No module named 'gfootball'                                                                                                                             | envs/base_env/config/football.yaml  | envs/base_env/football.py  |\n",
      "+------------+----------------+---------------------------------------------------------------------------------------------------------------------------------------------------------+-------------------------------------+----------------------------+\n",
      "| magent     | Error          | cannot import name 'adversarial_pursuit_v3' from 'pettingzoo.magent'                                                                                    | envs/base_env/config/magent.yaml    | envs/base_env/magent.py    |\n",
      "+------------+----------------+---------------------------------------------------------------------------------------------------------------------------------------------------------+-------------------------------------+----------------------------+\n",
      "| rware      | Error          | No module named 'rware'                                                                                                                                 | envs/base_env/config/rware.yaml     | envs/base_env/rware.py     |\n",
      "+------------+----------------+---------------------------------------------------------------------------------------------------------------------------------------------------------+-------------------------------------+----------------------------+\n",
      "| lbf        | Error          | No module named 'lbforaging'                                                                                                                            | envs/base_env/config/lbf.yaml       | envs/base_env/lbf.py       |\n",
      "+------------+----------------+---------------------------------------------------------------------------------------------------------------------------------------------------------+-------------------------------------+----------------------------+\n",
      "| pommerman  | Error          | No module named 'pommerman'                                                                                                                             | envs/base_env/config/pommerman.yaml | envs/base_env/pommerman.py |\n",
      "+------------+----------------+---------------------------------------------------------------------------------------------------------------------------------------------------------+-------------------------------------+----------------------------+\n",
      "| hanabi     | Ready          | Null                                                                                                                                                    | envs/base_env/config/hanabi.yaml    | envs/base_env/hanabi.py    |\n",
      "+------------+----------------+---------------------------------------------------------------------------------------------------------------------------------------------------------+-------------------------------------+----------------------------+\n",
      "| metadrive  | Error          | No module named 'metadrive'                                                                                                                             | envs/base_env/config/metadrive.yaml | envs/base_env/metadrive.py |\n",
      "+------------+----------------+---------------------------------------------------------------------------------------------------------------------------------------------------------+-------------------------------------+----------------------------+\n",
      "| mate       | Error          | No module named 'mate'                                                                                                                                  | envs/base_env/config/mate.yaml      | envs/base_env/mate.py      |\n",
      "+------------+----------------+---------------------------------------------------------------------------------------------------------------------------------------------------------+-------------------------------------+----------------------------+\n",
      "| gobigger   | Error          | No module named 'gobigger'                                                                                                                              | envs/base_env/config/gobigger.yaml  | envs/base_env/gobigger.py  |\n",
      "+------------+----------------+---------------------------------------------------------------------------------------------------------------------------------------------------------+-------------------------------------+----------------------------+\n"
     ]
    },
    {
     "name": "stderr",
     "output_type": "stream",
     "text": [
      "/home/nono/.conda/envs/marllib/lib/python3.8/site-packages/pettingzoo/utils/wrappers/base.py:59: UserWarning: The `action_spaces` dictionary is deprecated. Use the `action_space` function instead.\n",
      "  warnings.warn(\"The `action_spaces` dictionary is deprecated. Use the `action_space` function instead.\")\n",
      "/home/nono/.conda/envs/marllib/lib/python3.8/site-packages/pettingzoo/utils/wrappers/base.py:51: UserWarning: The `observation_spaces` dictionary is deprecated. Use the `observation_space` function instead.\n",
      "  warnings.warn(\"The `observation_spaces` dictionary is deprecated. Use the `observation_space` function instead.\")\n",
      "/home/nono/.conda/envs/marllib/lib/python3.8/site-packages/pettingzoo/utils/conversions.py:61: UserWarning: The `observation_spaces` dictionary is deprecated. Use the `observation_space` function instead.\n",
      "  warnings.warn(\"The `observation_spaces` dictionary is deprecated. Use the `observation_space` function instead.\")\n",
      "/home/nono/.conda/envs/marllib/lib/python3.8/site-packages/pettingzoo/utils/conversions.py:69: UserWarning: The `action_spaces` dictionary is deprecated. Use the `action_space` function instead.\n",
      "  warnings.warn(\"The `action_spaces` dictionary is deprecated. Use the `action_space` function instead.\")\n"
     ]
    }
   ],
   "source": [
    "from marllib import marl\n",
    "# prepare env\n",
    "env = marl.make_env(environment_name=\"mpe\", map_name=\"simple_spread\")\n"
   ]
  },
  {
   "cell_type": "code",
   "execution_count": 3,
   "metadata": {},
   "outputs": [],
   "source": [
    "# initialize algorithm with appointed hyper-parameters\n",
    "mappo = marl.algos.mappo(hyperparam_source=\"mpe\")"
   ]
  },
  {
   "cell_type": "code",
   "execution_count": 4,
   "metadata": {},
   "outputs": [
    {
     "name": "stderr",
     "output_type": "stream",
     "text": [
      "\u001b[2m\u001b[36m(pid=49389)\u001b[0m 2023-05-03 15:34:24,057\tWARNING deprecation.py:38 -- DeprecationWarning: `simple_optimizer` has been deprecated. This will raise an error in the future!\n",
      "\u001b[2m\u001b[36m(pid=49389)\u001b[0m 2023-05-03 15:34:24,057\tINFO ppo.py:166 -- In multi-agent mode, policies will be optimized sequentially by the multi-GPU optimizer. Consider setting simple_optimizer=True if this doesn't work for you.\n",
      "\u001b[2m\u001b[36m(pid=49389)\u001b[0m 2023-05-03 15:34:24,057\tINFO trainer.py:770 -- Current log_level is WARN. For more information, set 'log_level': 'INFO' / 'DEBUG' or use the -v and -vv flags.\n",
      "\u001b[2m\u001b[36m(pid=49392)\u001b[0m /home/nono/.conda/envs/marllib/lib/python3.8/site-packages/pettingzoo/utils/wrappers/base.py:59: UserWarning: The `action_spaces` dictionary is deprecated. Use the `action_space` function instead.\n",
      "\u001b[2m\u001b[36m(pid=49392)\u001b[0m   warnings.warn(\"The `action_spaces` dictionary is deprecated. Use the `action_space` function instead.\")\n",
      "\u001b[2m\u001b[36m(pid=49392)\u001b[0m /home/nono/.conda/envs/marllib/lib/python3.8/site-packages/pettingzoo/utils/wrappers/base.py:51: UserWarning: The `observation_spaces` dictionary is deprecated. Use the `observation_space` function instead.\n",
      "\u001b[2m\u001b[36m(pid=49392)\u001b[0m   warnings.warn(\"The `observation_spaces` dictionary is deprecated. Use the `observation_space` function instead.\")\n",
      "\u001b[2m\u001b[36m(pid=49392)\u001b[0m /home/nono/.conda/envs/marllib/lib/python3.8/site-packages/pettingzoo/utils/conversions.py:61: UserWarning: The `observation_spaces` dictionary is deprecated. Use the `observation_space` function instead.\n",
      "\u001b[2m\u001b[36m(pid=49392)\u001b[0m   warnings.warn(\"The `observation_spaces` dictionary is deprecated. Use the `observation_space` function instead.\")\n",
      "\u001b[2m\u001b[36m(pid=49392)\u001b[0m /home/nono/.conda/envs/marllib/lib/python3.8/site-packages/pettingzoo/utils/conversions.py:69: UserWarning: The `action_spaces` dictionary is deprecated. Use the `action_space` function instead.\n",
      "\u001b[2m\u001b[36m(pid=49392)\u001b[0m   warnings.warn(\"The `action_spaces` dictionary is deprecated. Use the `action_space` function instead.\")\n",
      "\u001b[2m\u001b[36m(pid=49392)\u001b[0m 2023-05-03 15:34:25,247\tWARNING deprecation.py:38 -- DeprecationWarning: `SampleBatch['is_training']` has been deprecated. Use `SampleBatch.is_training` instead. This will raise an error in the future!\n"
     ]
    },
    {
     "name": "stdout",
     "output_type": "stream",
     "text": [
      "== Status ==\n",
      "Current time: 2023-05-03 15:34:29 (running for 00:00:06.37)\n",
      "Memory usage on this node: 13.0/15.4 GiB\n",
      "Using FIFO scheduling algorithm.\n",
      "Resources requested: 2.0/16 CPUs, 1.0/1 GPUs, 0.0/6.12 GiB heap, 0.0/3.06 GiB objects (0.0/1.0 accelerator_type:G)\n",
      "Result logdir: /home/nono/Documents/smac/smac/tests/exp_results/mappo_gru_simple_spread\n",
      "Number of trials: 1/1 (1 RUNNING)\n",
      "+--------------------------------------------+----------+-------------------+\n",
      "| Trial name                                 | status   | loc               |\n",
      "|--------------------------------------------+----------+-------------------|\n",
      "| MAPPOTrainer_mpe_simple_spread_36def_00000 | RUNNING  | 172.20.10.4:49389 |\n",
      "+--------------------------------------------+----------+-------------------+\n",
      "\n",
      "\n"
     ]
    },
    {
     "name": "stderr",
     "output_type": "stream",
     "text": [
      "\u001b[2m\u001b[36m(pid=49389)\u001b[0m 2023-05-03 15:34:29,060\tWARNING deprecation.py:38 -- DeprecationWarning: `SampleBatch['is_training']` has been deprecated. Use `SampleBatch.is_training` instead. This will raise an error in the future!\n",
      "\u001b[2m\u001b[36m(pid=49389)\u001b[0m 2023-05-03 15:34:29,093\tWARNING trainer_template.py:185 -- `execution_plan` functions should accept `trainer`, `workers`, and `config` as args!\n",
      "\u001b[2m\u001b[36m(pid=49389)\u001b[0m 2023-05-03 15:34:29,094\tWARNING deprecation.py:38 -- DeprecationWarning: `simple_optimizer` has been deprecated. This will raise an error in the future!\n",
      "\u001b[2m\u001b[36m(pid=49389)\u001b[0m /home/nono/.conda/envs/marllib/lib/python3.8/site-packages/pettingzoo/utils/wrappers/base.py:59: UserWarning: The `action_spaces` dictionary is deprecated. Use the `action_space` function instead.\n",
      "\u001b[2m\u001b[36m(pid=49389)\u001b[0m   warnings.warn(\"The `action_spaces` dictionary is deprecated. Use the `action_space` function instead.\")\n",
      "\u001b[2m\u001b[36m(pid=49389)\u001b[0m /home/nono/.conda/envs/marllib/lib/python3.8/site-packages/pettingzoo/utils/wrappers/base.py:51: UserWarning: The `observation_spaces` dictionary is deprecated. Use the `observation_space` function instead.\n",
      "\u001b[2m\u001b[36m(pid=49389)\u001b[0m   warnings.warn(\"The `observation_spaces` dictionary is deprecated. Use the `observation_space` function instead.\")\n",
      "\u001b[2m\u001b[36m(pid=49389)\u001b[0m /home/nono/.conda/envs/marllib/lib/python3.8/site-packages/pettingzoo/utils/conversions.py:61: UserWarning: The `observation_spaces` dictionary is deprecated. Use the `observation_space` function instead.\n",
      "\u001b[2m\u001b[36m(pid=49389)\u001b[0m   warnings.warn(\"The `observation_spaces` dictionary is deprecated. Use the `observation_space` function instead.\")\n",
      "\u001b[2m\u001b[36m(pid=49389)\u001b[0m /home/nono/.conda/envs/marllib/lib/python3.8/site-packages/pettingzoo/utils/conversions.py:69: UserWarning: The `action_spaces` dictionary is deprecated. Use the `action_space` function instead.\n",
      "\u001b[2m\u001b[36m(pid=49389)\u001b[0m   warnings.warn(\"The `action_spaces` dictionary is deprecated. Use the `action_space` function instead.\")\n",
      "\u001b[2m\u001b[36m(pid=49389)\u001b[0m 2023-05-03 15:34:29,109\tWARNING util.py:57 -- Install gputil for GPU system monitoring.\n"
     ]
    },
    {
     "name": "stdout",
     "output_type": "stream",
     "text": [
      "== Status ==\n",
      "Current time: 2023-05-03 15:34:30 (running for 00:00:07.37)\n",
      "Memory usage on this node: 13.0/15.4 GiB\n",
      "Using FIFO scheduling algorithm.\n",
      "Resources requested: 2.0/16 CPUs, 1.0/1 GPUs, 0.0/6.12 GiB heap, 0.0/3.06 GiB objects (0.0/1.0 accelerator_type:G)\n",
      "Result logdir: /home/nono/Documents/smac/smac/tests/exp_results/mappo_gru_simple_spread\n",
      "Number of trials: 1/1 (1 RUNNING)\n",
      "+--------------------------------------------+----------+-------------------+\n",
      "| Trial name                                 | status   | loc               |\n",
      "|--------------------------------------------+----------+-------------------|\n",
      "| MAPPOTrainer_mpe_simple_spread_36def_00000 | RUNNING  | 172.20.10.4:49389 |\n",
      "+--------------------------------------------+----------+-------------------+\n",
      "\n",
      "\n",
      "== Status ==\n",
      "Current time: 2023-05-03 15:34:35 (running for 00:00:13.03)\n",
      "Memory usage on this node: 12.9/15.4 GiB\n",
      "Using FIFO scheduling algorithm.\n",
      "Resources requested: 2.0/16 CPUs, 1.0/1 GPUs, 0.0/6.12 GiB heap, 0.0/3.06 GiB objects (0.0/1.0 accelerator_type:G)\n",
      "Result logdir: /home/nono/Documents/smac/smac/tests/exp_results/mappo_gru_simple_spread\n",
      "Number of trials: 1/1 (1 RUNNING)\n",
      "+--------------------------------------------+----------+-------------------+--------+------------------+------+----------+----------------------+----------------------+--------------------+\n",
      "| Trial name                                 | status   | loc               |   iter |   total time (s) |   ts |   reward |   episode_reward_max |   episode_reward_min |   episode_len_mean |\n",
      "|--------------------------------------------+----------+-------------------+--------+------------------+------+----------+----------------------+----------------------+--------------------|\n",
      "| MAPPOTrainer_mpe_simple_spread_36def_00000 | RUNNING  | 172.20.10.4:49389 |      1 |          4.64055 | 3200 | -113.773 |              -67.594 |             -170.826 |                 25 |\n",
      "+--------------------------------------------+----------+-------------------+--------+------------------+------+----------+----------------------+----------------------+--------------------+\n",
      "\n",
      "\n",
      "== Status ==\n",
      "Current time: 2023-05-03 15:34:41 (running for 00:00:18.51)\n",
      "Memory usage on this node: 12.9/15.4 GiB\n",
      "Using FIFO scheduling algorithm.\n",
      "Resources requested: 2.0/16 CPUs, 1.0/1 GPUs, 0.0/6.12 GiB heap, 0.0/3.06 GiB objects (0.0/1.0 accelerator_type:G)\n",
      "Result logdir: /home/nono/Documents/smac/smac/tests/exp_results/mappo_gru_simple_spread\n",
      "Number of trials: 1/1 (1 RUNNING)\n",
      "+--------------------------------------------+----------+-------------------+--------+------------------+------+----------+----------------------+----------------------+--------------------+\n",
      "| Trial name                                 | status   | loc               |   iter |   total time (s) |   ts |   reward |   episode_reward_max |   episode_reward_min |   episode_len_mean |\n",
      "|--------------------------------------------+----------+-------------------+--------+------------------+------+----------+----------------------+----------------------+--------------------|\n",
      "| MAPPOTrainer_mpe_simple_spread_36def_00000 | RUNNING  | 172.20.10.4:49389 |      2 |          9.10369 | 6400 | -118.126 |             -77.6369 |             -235.951 |                 25 |\n",
      "+--------------------------------------------+----------+-------------------+--------+------------------+------+----------+----------------------+----------------------+--------------------+\n",
      "\n",
      "\n",
      "== Status ==\n",
      "Current time: 2023-05-03 15:34:46 (running for 00:00:23.86)\n",
      "Memory usage on this node: 12.9/15.4 GiB\n",
      "Using FIFO scheduling algorithm.\n",
      "Resources requested: 2.0/16 CPUs, 1.0/1 GPUs, 0.0/6.12 GiB heap, 0.0/3.06 GiB objects (0.0/1.0 accelerator_type:G)\n",
      "Result logdir: /home/nono/Documents/smac/smac/tests/exp_results/mappo_gru_simple_spread\n",
      "Number of trials: 1/1 (1 RUNNING)\n",
      "+--------------------------------------------+----------+-------------------+--------+------------------+------+----------+----------------------+----------------------+--------------------+\n",
      "| Trial name                                 | status   | loc               |   iter |   total time (s) |   ts |   reward |   episode_reward_max |   episode_reward_min |   episode_len_mean |\n",
      "|--------------------------------------------+----------+-------------------+--------+------------------+------+----------+----------------------+----------------------+--------------------|\n",
      "| MAPPOTrainer_mpe_simple_spread_36def_00000 | RUNNING  | 172.20.10.4:49389 |      3 |           13.448 | 9600 | -108.997 |             -75.0334 |             -158.052 |                 25 |\n",
      "+--------------------------------------------+----------+-------------------+--------+------------------+------+----------+----------------------+----------------------+--------------------+\n",
      "\n",
      "\n",
      "== Status ==\n",
      "Current time: 2023-05-03 15:34:46 (running for 00:00:24.25)\n",
      "Memory usage on this node: 12.9/15.4 GiB\n",
      "Using FIFO scheduling algorithm.\n",
      "Resources requested: 0/16 CPUs, 0/1 GPUs, 0.0/6.12 GiB heap, 0.0/3.06 GiB objects (0.0/1.0 accelerator_type:G)\n",
      "Result logdir: /home/nono/Documents/smac/smac/tests/exp_results/mappo_gru_simple_spread\n",
      "Number of trials: 1/1 (1 TERMINATED)\n",
      "+--------------------------------------------+------------+-------------------+--------+------------------+-------+----------+----------------------+----------------------+--------------------+\n",
      "| Trial name                                 | status     | loc               |   iter |   total time (s) |    ts |   reward |   episode_reward_max |   episode_reward_min |   episode_len_mean |\n",
      "|--------------------------------------------+------------+-------------------+--------+------------------+-------+----------+----------------------+----------------------+--------------------|\n",
      "| MAPPOTrainer_mpe_simple_spread_36def_00000 | TERMINATED | 172.20.10.4:49389 |      4 |          17.7986 | 12800 | -108.812 |             -68.4822 |             -182.029 |                 25 |\n",
      "+--------------------------------------------+------------+-------------------+--------+------------------+-------+----------+----------------------+----------------------+--------------------+\n",
      "\n",
      "\n"
     ]
    },
    {
     "name": "stderr",
     "output_type": "stream",
     "text": [
      "\u001b[2m\u001b[36m(pid=49392)\u001b[0m [2023-05-03 15:34:47,335 E 49392 49742] raylet_client.cc:159: IOError: Broken pipe [RayletClient] Failed to disconnect from raylet.\n",
      "2023-05-03 15:34:47,436\tINFO tune.py:630 -- Total run time: 24.73 seconds (24.23 seconds for the tuning loop).\n"
     ]
    },
    {
     "ename": "TypeError",
     "evalue": "string indices must be integers",
     "output_type": "error",
     "traceback": [
      "\u001b[0;31m---------------------------------------------------------------------------\u001b[0m",
      "\u001b[0;31mTypeError\u001b[0m                                 Traceback (most recent call last)",
      "Cell \u001b[0;32mIn[4], line 8\u001b[0m\n\u001b[1;32m      5\u001b[0m mappo\u001b[39m.\u001b[39mfit(env, model, stop\u001b[39m=\u001b[39m{\u001b[39m'\u001b[39m\u001b[39mtimesteps_total\u001b[39m\u001b[39m'\u001b[39m: \u001b[39m10000\u001b[39m}, share_policy\u001b[39m=\u001b[39m\u001b[39m'\u001b[39m\u001b[39mgroup\u001b[39m\u001b[39m'\u001b[39m)\n\u001b[1;32m      7\u001b[0m \u001b[39m# ready to control\u001b[39;00m\n\u001b[0;32m----> 8\u001b[0m mappo\u001b[39m.\u001b[39;49mrender(env, model, share_policy\u001b[39m=\u001b[39;49m\u001b[39m'\u001b[39;49m\u001b[39mgroup\u001b[39;49m\u001b[39m'\u001b[39;49m, restore_path\u001b[39m=\u001b[39;49m\u001b[39m'\u001b[39;49m\u001b[39mpath_to_checkpoint\u001b[39;49m\u001b[39m'\u001b[39;49m)\n",
      "File \u001b[0;32m~/.conda/envs/marllib/lib/python3.8/site-packages/marllib/marl/__init__.py:330\u001b[0m, in \u001b[0;36m_Algo.render\u001b[0;34m(self, env, model, stop, **running_params)\u001b[0m\n\u001b[1;32m    317\u001b[0m \u001b[39mdef\u001b[39;00m \u001b[39mrender\u001b[39m(\u001b[39mself\u001b[39m, env: Tuple[MultiAgentEnv, Dict], model: Tuple[Any, Dict], stop: Dict \u001b[39m=\u001b[39m \u001b[39mNone\u001b[39;00m,\n\u001b[1;32m    318\u001b[0m            \u001b[39m*\u001b[39m\u001b[39m*\u001b[39mrunning_params) \u001b[39m-\u001b[39m\u001b[39m>\u001b[39m \u001b[39mNone\u001b[39;00m:\n\u001b[1;32m    319\u001b[0m     \u001b[39m\"\"\"\u001b[39;00m\n\u001b[1;32m    320\u001b[0m \u001b[39m    Entering point of the rendering, running a one iteration fit instead\u001b[39;00m\n\u001b[1;32m    321\u001b[0m \u001b[39m    Args:\u001b[39;00m\n\u001b[0;32m   (...)\u001b[0m\n\u001b[1;32m    327\u001b[0m \u001b[39m        None\u001b[39;00m\n\u001b[1;32m    328\u001b[0m \u001b[39m    \"\"\"\u001b[39;00m\n\u001b[0;32m--> 330\u001b[0m     \u001b[39mself\u001b[39;49m\u001b[39m.\u001b[39;49mfit(env, model, stop, \u001b[39m*\u001b[39;49m\u001b[39m*\u001b[39;49mrunning_params)\n",
      "File \u001b[0;32m~/.conda/envs/marllib/lib/python3.8/site-packages/marllib/marl/__init__.py:313\u001b[0m, in \u001b[0;36m_Algo.fit\u001b[0;34m(self, env, model, stop, **running_params)\u001b[0m\n\u001b[1;32m    311\u001b[0m     run_vd(\u001b[39mself\u001b[39m\u001b[39m.\u001b[39mconfig_dict, env_instance, model_class, stop\u001b[39m=\u001b[39mstop)\n\u001b[1;32m    312\u001b[0m \u001b[39melif\u001b[39;00m \u001b[39mself\u001b[39m\u001b[39m.\u001b[39malgo_type \u001b[39m==\u001b[39m \u001b[39m\"\u001b[39m\u001b[39mCC\u001b[39m\u001b[39m\"\u001b[39m:\n\u001b[0;32m--> 313\u001b[0m     run_cc(\u001b[39mself\u001b[39;49m\u001b[39m.\u001b[39;49mconfig_dict, env_instance, model_class, stop\u001b[39m=\u001b[39;49mstop)\n\u001b[1;32m    314\u001b[0m \u001b[39melse\u001b[39;00m:\n\u001b[1;32m    315\u001b[0m     \u001b[39mraise\u001b[39;00m \u001b[39mValueError\u001b[39;00m(\u001b[39m\"\u001b[39m\u001b[39mnot supported type \u001b[39m\u001b[39m{}\u001b[39;00m\u001b[39m\"\u001b[39m\u001b[39m.\u001b[39mformat(\u001b[39mself\u001b[39m\u001b[39m.\u001b[39malgo_type))\n",
      "File \u001b[0;32m~/.conda/envs/marllib/lib/python3.8/site-packages/marllib/marl/algos/run_cc.py:140\u001b[0m, in \u001b[0;36mrun_cc\u001b[0;34m(exp_info, env, model, stop)\u001b[0m\n\u001b[1;32m    132\u001b[0m stop_config \u001b[39m=\u001b[39m {\n\u001b[1;32m    133\u001b[0m     \u001b[39m\"\u001b[39m\u001b[39mepisode_reward_mean\u001b[39m\u001b[39m\"\u001b[39m: exp_info[\u001b[39m\"\u001b[39m\u001b[39mstop_reward\u001b[39m\u001b[39m\"\u001b[39m],\n\u001b[1;32m    134\u001b[0m     \u001b[39m\"\u001b[39m\u001b[39mtimesteps_total\u001b[39m\u001b[39m\"\u001b[39m: exp_info[\u001b[39m\"\u001b[39m\u001b[39mstop_timesteps\u001b[39m\u001b[39m\"\u001b[39m],\n\u001b[1;32m    135\u001b[0m     \u001b[39m\"\u001b[39m\u001b[39mtraining_iteration\u001b[39m\u001b[39m\"\u001b[39m: exp_info[\u001b[39m\"\u001b[39m\u001b[39mstop_iters\u001b[39m\u001b[39m\"\u001b[39m],\n\u001b[1;32m    136\u001b[0m }\n\u001b[1;32m    138\u001b[0m stop_config \u001b[39m=\u001b[39m dict_update(stop_config, stop)\n\u001b[0;32m--> 140\u001b[0m \u001b[39mif\u001b[39;00m exp_info[\u001b[39m'\u001b[39;49m\u001b[39mrestore_path\u001b[39;49m\u001b[39m'\u001b[39;49m][\u001b[39m'\u001b[39;49m\u001b[39mmodel_path\u001b[39;49m\u001b[39m'\u001b[39;49m] \u001b[39m==\u001b[39m \u001b[39m'\u001b[39m\u001b[39m'\u001b[39m:\n\u001b[1;32m    141\u001b[0m     restore_config \u001b[39m=\u001b[39m \u001b[39mNone\u001b[39;00m\n\u001b[1;32m    142\u001b[0m \u001b[39melse\u001b[39;00m:\n",
      "\u001b[0;31mTypeError\u001b[0m: string indices must be integers"
     ]
    }
   ],
   "source": [
    "# build agent model based on env + algorithms + user preference\n",
    "model = marl.build_model(env, mappo, {\"core_arch\": \"gru\", \"encode_layer\": \"128-256\"})\n",
    "\n",
    "# start training\n",
    "mappo.fit(env, model, stop={'timesteps_total': 10000}, share_policy='group')\n",
    "\n",
    "# ready to control\n",
    "mappo.render(env, model, share_policy='group', restore_path='path_to_checkpoint')"
   ]
  }
 ],
 "metadata": {
  "kernelspec": {
   "display_name": "marllib",
   "language": "python",
   "name": "python3"
  },
  "language_info": {
   "codemirror_mode": {
    "name": "ipython",
    "version": 3
   },
   "file_extension": ".py",
   "mimetype": "text/x-python",
   "name": "python",
   "nbconvert_exporter": "python",
   "pygments_lexer": "ipython3",
   "version": "3.8.16"
  },
  "orig_nbformat": 4
 },
 "nbformat": 4,
 "nbformat_minor": 2
}
